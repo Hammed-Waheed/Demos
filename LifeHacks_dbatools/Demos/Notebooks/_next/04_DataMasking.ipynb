{
    "metadata": {
        "kernelspec": {
            "name": "powershell",
            "display_name": "PowerShell"
        },
        "language_info": {
            "name": "powershell",
            "codemirror_mode": "shell",
            "mimetype": "text/x-sh",
            "file_extension": ".ps1"
        }
    },
    "nbformat_minor": 2,
    "nbformat": 4,
    "cells": [
        {
            "cell_type": "markdown",
            "source": [
                "# Mask Sensitive Data\r\n",
                "\r\n",
                "- Find potentially sensitive data\r\n",
                "- Explore randomizer\r\n",
                "- Generate a masking config\r\n",
                "- Mask that data"
            ],
            "metadata": {
                "azdata_cell_guid": "8a105840-6005-4ae5-b1b9-bf2b6afb1cce"
            }
        },
        {
            "cell_type": "markdown",
            "source": [
                "## 1. Find sensitive data in your database\r\n",
                ""
            ],
            "metadata": {
                "azdata_cell_guid": "3d01f319-6771-4cb5-9020-fadcd3357bb6"
            }
        },
        {
            "cell_type": "code",
            "source": [
                "$piiSplat = @{\r\n",
                "    SqlInstance     = \"mssql1\"\r\n",
                "    SqlCredential   = $credential\r\n",
                "    Database        = \"AdventureWorks2017\"\r\n",
                "    Table           = \"Employee\"\r\n",
                "}\r\n",
                "Invoke-DbaDbPiiScan @piiSplat | ## FORMAT OUTPUT"
            ],
            "metadata": {
                "azdata_cell_guid": "4e7a53a1-b9f1-41a8-9bb3-dc347f76dbe7"
            },
            "outputs": [],
            "execution_count": 0
        },
        {
            "cell_type": "code",
            "source": [
                "USE AdventureWorks2017;\r\n",
                "GO\r\n",
                "SELECT TOP 10 *\r\n",
                "FROM HumanResources.Employee"
            ],
            "metadata": {
                "azdata_cell_guid": "0b99b1cf-64f4-45bd-b004-4f1a230cf878"
            },
            "outputs": [],
            "execution_count": 1
        },
        {
            "cell_type": "markdown",
            "source": [
                "*Go mask the data*"
            ],
            "metadata": {
                "azdata_cell_guid": "2bb55356-2af5-465c-987b-f3e9f514ec92"
            }
        },
        {
            "cell_type": "code",
            "source": [
                "USE AdventureWorks2017;\r\n",
                "GO\r\n",
                "SELECT TOP 10 *\r\n",
                "FROM HumanResources.Employee"
            ],
            "metadata": {
                "azdata_cell_guid": "51724665-8874-4f2a-a7d0-c960b4990369"
            },
            "outputs": [],
            "execution_count": 2
        },
        {
            "cell_type": "markdown",
            "source": [
                ""
            ],
            "metadata": {
                "azdata_cell_guid": "960fe4f7-1c9e-4846-b1e1-1e25dbce53bd"
            }
        }
    ]
}