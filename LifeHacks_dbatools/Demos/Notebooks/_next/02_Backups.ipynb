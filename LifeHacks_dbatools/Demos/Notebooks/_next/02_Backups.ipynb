{
    "metadata": {
        "kernelspec": {
            "name": "powershell",
            "display_name": "PowerShell"
        },
        "language_info": {
            "name": "powershell",
            "codemirror_mode": "shell",
            "mimetype": "text/x-sh",
            "file_extension": ".ps1"
        }
    },
    "nbformat_minor": 2,
    "nbformat": 4,
    "cells": [
        {
            "cell_type": "markdown",
            "source": [
                "# Backups with dbatools\r\n",
                "\r\n",
                "- Review backup history\r\n",
                "- Backup your databases\r\n",
                "- Test those backups\r\n",
                " - Your backups are useless if they can't be restored\r\n",
                "- Save restore testing results to a table"
            ],
            "metadata": {
                "azdata_cell_guid": "92b6cb69-92ac-4e92-aa47-88b382986135"
            }
        },
        {
            "cell_type": "markdown",
            "source": [
                "## 1. Get the backup history for the mssql1 server"
            ],
            "metadata": {
                "azdata_cell_guid": "ca2c059c-18f4-4bcf-b946-e80e61b549eb"
            }
        },
        {
            "cell_type": "code",
            "source": [
                "$instanceSplat = @{\r\n",
                "    SqlInstance   = 'mssql1'\r\n",
                "    SqlCredential = $credential\r\n",
                "}\r\n",
                "Get-DbaDbBackupHistory @instanceSplat"
            ],
            "metadata": {
                "azdata_cell_guid": "7f750be1-16a4-4cfd-9454-ca50b4e34e2e"
            },
            "outputs": [
                {
                    "name": "stdout",
                    "text": "WARNING: [16:47:00][Get-DbaDbBackupHistory] Error occurred while establishing connection to mssql1 | The target \nprincipal name is incorrect.  Cannot generate SSPI context.\n",
                    "output_type": "stream"
                }
            ],
            "execution_count": 1
        },
        {
            "cell_type": "markdown",
            "source": [
                "## 2. Backup the DatabaseAdmin database"
            ],
            "metadata": {
                "azdata_cell_guid": "11970925-bfb6-43aa-9e4e-585e16cb48f1"
            }
        },
        {
            "cell_type": "code",
            "source": [
                "$backupParams = @{\r\n",
                "    SqlInstance   = 'mssql1'\r\n",
                "    SqlCredential = $credential\r\n",
                "    Database      = 'DatabaseAdmin'\r\n",
                "}\r\n",
                "Backup-DbaDatabase @backupParams"
            ],
            "metadata": {
                "azdata_cell_guid": "c14507d1-ee16-4b6d-8b6a-41b351985536"
            },
            "outputs": [],
            "execution_count": 0
        },
        {
            "cell_type": "markdown",
            "source": [
                "## 3. Offload testing your backups to a second server"
            ],
            "metadata": {
                "azdata_cell_guid": "a14b540a-adde-4a81-bd32-1a1ee7e85f53"
            }
        },
        {
            "cell_type": "code",
            "source": [
                "$testParams = @{\r\n",
                "    SqlInstance           = 'mssql1'\r\n",
                "    SqlCredential         = $credential\r\n",
                "    Database              = \"AdventureWorks2017\",\"DatabaseAdmin\"\r\n",
                "    Destination           = 'mssql2'\r\n",
                "    DestinationCredential = $credential\r\n",
                "    Verbose               = $true\r\n",
                "    OutVariable           = 'results'\r\n",
                "}\r\n",
                "Test-DbaLastBackup @testParams"
            ],
            "metadata": {
                "azdata_cell_guid": "2432bf08-7c65-40a5-bebe-5f7de7003f77"
            },
            "outputs": [],
            "execution_count": 0
        },
        {
            "cell_type": "markdown",
            "source": [
                "## 4. Record your backup tests into a SQL Server table"
            ],
            "metadata": {
                "azdata_cell_guid": "ab41c7a5-31e7-49e7-8053-19dfea567d2e"
            }
        },
        {
            "cell_type": "code",
            "source": [
                "$writeParams = @{\r\n",
                "    SqlInstance = 'mssql1'\r\n",
                "    SqlCredential = $credential\r\n",
                "    Database = 'DatabaseAdmin'\r\n",
                "    Table = 'TestRestore'\r\n",
                "    AutoCreateTable = $true\r\n",
                "}\r\n",
                "$results | Write-DbaDataTable @writeParams"
            ],
            "metadata": {
                "azdata_cell_guid": "035bc652-d769-4976-85e5-b1f683244bed"
            },
            "outputs": [],
            "execution_count": 0
        },
        {
            "cell_type": "markdown",
            "source": [
                "## 5. Use piping"
            ],
            "metadata": {
                "azdata_cell_guid": "4651ae80-5fbc-4c11-95a2-0db70102e3fc"
            }
        },
        {
            "cell_type": "code",
            "source": [
                "Test-DbaLastBackup @testParams | Write-DbaDataTable @writeParams"
            ],
            "metadata": {
                "azdata_cell_guid": "0775a0e6-2741-43e2-a466-05c820526313"
            },
            "outputs": [],
            "execution_count": 0
        }
    ]
}