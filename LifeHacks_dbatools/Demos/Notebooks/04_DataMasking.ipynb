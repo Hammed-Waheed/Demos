{
    "metadata": {
        "kernelspec": {
            "name": "SQL",
            "display_name": "SQL",
            "language": "sql"
        },
        "language_info": {
            "name": "sql",
            "version": ""
        }
    },
    "nbformat_minor": 2,
    "nbformat": 4,
    "cells": [
        {
            "cell_type": "markdown",
            "source": [
                "# 04 - Data Masking"
            ],
            "metadata": {
                "azdata_cell_guid": "8a105840-6005-4ae5-b1b9-bf2b6afb1cce"
            }
        },
        {
            "cell_type": "markdown",
            "source": [
                "## Scenario: \r\n",
                "\r\n",
                "Your testers **have** to have production data to test against.\r\n",
                "\r\n",
                "1. Restore Production database to Test environment\r\n",
                "1. Mask sensitive data!"
            ],
            "metadata": {
                "azdata_cell_guid": "1d7aae6c-badc-4b5a-8568-650cf5afb4c7"
            }
        },
        {
            "cell_type": "code",
            "source": [
                "USE AdventureWorks2017;\r\n",
                "GO\r\n",
                "SELECT TOP 10 *\r\n",
                "FROM HumanResources.Employee"
            ],
            "metadata": {
                "azdata_cell_guid": "0b99b1cf-64f4-45bd-b004-4f1a230cf878"
            },
            "outputs": [],
            "execution_count": 1
        },
        {
            "cell_type": "markdown",
            "source": [
                "*Go mask the data*"
            ],
            "metadata": {
                "azdata_cell_guid": "2bb55356-2af5-465c-987b-f3e9f514ec92"
            }
        },
        {
            "cell_type": "code",
            "source": [
                "USE AdventureWorks2017;\r\n",
                "GO\r\n",
                "SELECT TOP 10 *\r\n",
                "FROM HumanResources.Employee"
            ],
            "metadata": {
                "azdata_cell_guid": "51724665-8874-4f2a-a7d0-c960b4990369"
            },
            "outputs": [],
            "execution_count": 2
        },
        {
            "cell_type": "markdown",
            "source": [
                ""
            ],
            "metadata": {
                "azdata_cell_guid": "960fe4f7-1c9e-4846-b1e1-1e25dbce53bd"
            }
        }
    ]
}