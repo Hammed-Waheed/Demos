{
    "metadata": {
        "kernelspec": {
            "name": "SQL",
            "display_name": "SQL",
            "language": "sql"
        },
        "language_info": {
            "name": "sql",
            "version": ""
        }
    },
    "nbformat_minor": 2,
    "nbformat": 4,
    "cells": [
        {
            "cell_type": "markdown",
            "source": "### Trigger Execution Order",
            "metadata": {}
        },
        {
            "cell_type": "markdown",
            "source": "I asked a question on Twitter the other day: If you have multiple triggers on a table, will they execute serially or all at once? I got a reply with the answer (Thanks Aaron!), but figured it would be a good thing to test out here also.\r\n\r\n<blockquote class=\"twitter-tweet\"><p lang=\"en\" dir=\"ltr\">One at a time. You can control first and last but that&#39;s it - the middles will run in an arbitrary / non-deterministic order. If you have &gt; 3 I don&#39;t know that order is going to be your biggest problem. :-) <a href=\"https://twitter.com/hashtag/sqlhelp?src=hash&amp;ref_src=twsrc%5Etfw\">#sqlhelp</a></p>&mdash; Aaron Bertrand (@AaronBertrand) <a href=\"https://twitter.com/AaronBertrand/status/1121436026956861445?ref_src=twsrc%5Etfw\">April 25, 2019</a></blockquote> <script async src=\"https://platform.twitter.com/widgets.js\" charset=\"utf-8\"></script>\r\n\r\n\r\n\r\nFirst we'll create a test database and two tables:",
            "metadata": {}
        },
        {
            "cell_type": "code",
            "source": "IF NOT EXISTS(SELECT 1 FROM sys.databases where name = 'TriggerHappy')\r\n    CREATE DATABASE TriggerHappy\r\n\r\nGO\r\n\r\nUSE TriggerHappy\r\n\r\nCREATE TABLE TriggerTable (\r\n    TriggerTableId INT IDENTITY(1,1) PRIMARY KEY,\r\n    TestName VARCHAR(15)\r\n)\r\n\r\nCREATE TABLE TimeStampTable (\r\n    TimeStampTableId INT IDENTITY(1,1) PRIMARY KEY,\r\n    InsertedTestName VARCHAR(15), \r\n    TriggerName VARCHAR(15),\r\n    TimeExecuted DATETIME2 DEFAULT GETDATE()\r\n)",
            "metadata": {},
            "outputs": [],
            "execution_count": 1
        },
        {
            "cell_type": "markdown",
            "source": "I then created three triggers on the TriggerTable, each waits for 2 seconds and then inserts into the `TimeStampTable`.",
            "metadata": {}
        },
        {
            "cell_type": "code",
            "source": "USE TriggerHappy\r\nGO\r\n\r\nCREATE OR ALTER TRIGGER TriggerOne \r\nON dbo.TriggerTable\r\nAFTER INSERT\r\nAS\r\nDECLARE @test VARCHAR(15)\r\n\r\nWAITFOR DELAY '00:00:02'\r\nINSERT INTO TimeStampTable (InsertedTestName, TriggerName)\r\nSELECT testname, 'TriggerOne' from inserted\r\n\r\nGO \r\n\r\nCREATE OR ALTER TRIGGER TriggerTwo \r\nON dbo.TriggerTable\r\nAFTER INSERT\r\nAS\r\nWAITFOR DELAY '00:00:02'\r\nINSERT INTO TimeStampTable (InsertedTestName, TriggerName)\r\nSELECT testname, 'TriggerTwo' from inserted\r\n\r\nGO\r\n\r\nCREATE OR ALTER TRIGGER TriggerThree\r\nON dbo.TriggerTable\r\nAFTER INSERT\r\nAS\r\nWAITFOR DELAY '00:00:02'\r\nINSERT INTO TimeStampTable (InsertedTestName, TriggerName)\r\nSELECT testname, 'TriggerThree' from inserted",
            "metadata": {},
            "outputs": [],
            "execution_count": 2
        },
        {
            "cell_type": "markdown",
            "source": "Let's now insert a row and see what happens, this will run for 6ish seconds. Spoiler alert this is one of the reasons a lot of triggers might be a bad idea.",
            "metadata": {}
        },
        {
            "cell_type": "code",
            "source": "INSERT INTO TriggerTable (TestName)\r\nVALUES ('TestOne')",
            "metadata": {},
            "outputs": [
                {
                    "output_type": "display_data",
                    "data": {
                        "text/html": "(1 row affected)"
                    },
                    "metadata": {}
                },
                {
                    "output_type": "display_data",
                    "data": {
                        "text/html": "(1 row affected)"
                    },
                    "metadata": {}
                },
                {
                    "output_type": "display_data",
                    "data": {
                        "text/html": "(1 row affected)"
                    },
                    "metadata": {}
                },
                {
                    "output_type": "display_data",
                    "data": {
                        "text/html": "(1 row affected)"
                    },
                    "metadata": {}
                },
                {
                    "output_type": "display_data",
                    "data": {
                        "text/html": "Total execution time: 00:00:06.0229917"
                    },
                    "metadata": {}
                }
            ],
            "execution_count": 3
        },
        {
            "cell_type": "markdown",
            "source": "Looking at the results and the timestamps we can see the triggers executed one after another.",
            "metadata": {}
        },
        {
            "cell_type": "code",
            "source": "Select * \r\nFROM TimeStampTable",
            "metadata": {},
            "outputs": [
                {
                    "output_type": "display_data",
                    "data": {
                        "text/html": "(3 rows affected)"
                    },
                    "metadata": {}
                },
                {
                    "output_type": "display_data",
                    "data": {
                        "text/html": "Total execution time: 00:00:00.1754582"
                    },
                    "metadata": {}
                },
                {
                    "output_type": "execute_result",
                    "execution_count": 4,
                    "data": {
                        "application/vnd.dataresource+json": {
                            "schema": {
                                "fields": [
                                    {
                                        "name": "TimeStampTableId"
                                    },
                                    {
                                        "name": "InsertedTestName"
                                    },
                                    {
                                        "name": "TriggerName"
                                    },
                                    {
                                        "name": "TimeExecuted"
                                    }
                                ]
                            },
                            "data": [
                                {
                                    "0": "1",
                                    "1": "TestOne",
                                    "2": "TriggerOne",
                                    "3": "2019-05-03 22:49:30.6800000"
                                },
                                {
                                    "0": "2",
                                    "1": "TestOne",
                                    "2": "TriggerTwo",
                                    "3": "2019-05-03 22:49:32.6833333"
                                },
                                {
                                    "0": "3",
                                    "1": "TestOne",
                                    "2": "TriggerThree",
                                    "3": "2019-05-03 22:49:34.6866667"
                                }
                            ]
                        },
                        "text/html": "<table><tr><th>TimeStampTableId</th><th>InsertedTestName</th><th>TriggerName</th><th>TimeExecuted</th></tr><tr><td>1</td><td>TestOne</td><td>TriggerOne</td><td>2019-05-03 22:49:30.6800000</td></tr><tr><td>2</td><td>TestOne</td><td>TriggerTwo</td><td>2019-05-03 22:49:32.6833333</td></tr><tr><td>3</td><td>TestOne</td><td>TriggerThree</td><td>2019-05-03 22:49:34.6866667</td></tr></table>"
                    },
                    "metadata": {}
                }
            ],
            "execution_count": 4
        },
        {
            "cell_type": "code",
            "source": "-- Cleanup\r\n\r\nUSE MASTER\r\nGO\r\nDROP DATABASE TriggerHappy",
            "metadata": {},
            "outputs": [],
            "execution_count": 5
        }
    ]
}