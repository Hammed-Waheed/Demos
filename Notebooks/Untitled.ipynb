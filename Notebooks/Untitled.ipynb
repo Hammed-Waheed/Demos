{
 "cells": [
  {
   "cell_type": "markdown",
   "metadata": {},
   "source": [
    "# My first dotNet PowerShell notebook!"
   ]
  },
  {
   "cell_type": "code",
   "execution_count": 2,
   "metadata": {},
   "outputs": [
    {
     "name": "stdout",
     "output_type": "stream",
     "text": [
      "\n",
      " NPM(K)    PM(M)      WS(M)     CPU(s)      Id  SI ProcessName\n",
      " ------    -----      -----     ------      --  -- -----------\n",
      "     15     3.05      13.72       0.00   16316   0 aesm_service\n",
      "     24    18.34      31.30       0.30    4376   1 ApplicationFrameHost\n",
      "      8     1.19       5.69       0.00    5044   0 armsvc\n",
      "     12     9.03      14.72       4.14    8728   0 audiodg\n",
      "     46    24.13      60.74       2.25   15840   1 backgroundTaskHost\n",
      "\n"
     ]
    }
   ],
   "source": [
    "Get-Process | select -first 5"
   ]
  },
  {
   "cell_type": "code",
   "execution_count": 4,
   "metadata": {},
   "outputs": [
    {
     "name": "stdout",
     "output_type": "stream",
     "text": [
      "mssql1\n",
      "mssql2\n"
     ]
    }
   ],
   "source": [
    "docker start mssql1\n",
    "docker start mssql2"
   ]
  },
  {
   "cell_type": "code",
   "execution_count": 5,
   "metadata": {},
   "outputs": [
    {
     "name": "stdout",
     "output_type": "stream",
     "text": [
      "CONTAINER ID        IMAGE                                                 COMMAND                  CREATED             STATUS              PORTS                    NAMES\n",
      "f9447e525b9e        docker_mssql1                                         \"/bin/sh -c '/setup.…\"   4 days ago          Up 10 seconds       0.0.0.0:2500->1433/tcp   mssql1\n",
      "b78f9e66d81c        mcr.microsoft.com/mssql/server:2019-GA-ubuntu-16.04   \"/opt/mssql/bin/perm…\"   4 days ago          Up 9 seconds        0.0.0.0:2600->1433/tcp   mssql2\n"
     ]
    }
   ],
   "source": [
    "docker ps -a"
   ]
  }
 ],
 "metadata": {
  "kernelspec": {
   "display_name": ".NET (PowerShell)",
   "language": "PowerShell",
   "name": ".net-powershell"
  },
  "language_info": {
   "file_extension": ".ps1",
   "mimetype": "text/x-powershell",
   "name": "PowerShell",
   "pygments_lexer": "powershell",
   "version": "7.0"
  }
 },
 "nbformat": 4,
 "nbformat_minor": 4
}
