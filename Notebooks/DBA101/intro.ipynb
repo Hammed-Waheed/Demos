{
    "metadata": {
        "kernelspec": {
            "name": "SQL",
            "display_name": "SQL",
            "language": "sql"
        },
        "language_info": {
            "name": "sql",
            "version": ""
        }
    },
    "nbformat_minor": 2,
    "nbformat": 4,
    "cells": [
        {
            "cell_type": "markdown",
            "source": [
                "DBA 101\r\n",
                " - Backups\r\n",
                " - Index Maintenance\r\n",
                " - Failed jobs"
            ],
            "metadata": {
                "azdata_cell_guid": "e75a2633-9152-450b-aaa3-3765a70b4c30"
            }
        },
        {
            "cell_type": "code",
            "source": [
                "Select *\r\n",
                "from sys.databases"
            ],
            "metadata": {
                "azdata_cell_guid": "a08eaa23-10dc-46cb-acaf-0b5cf85a6be0"
            },
            "outputs": [
                {
                    "output_type": "display_data",
                    "data": {
                        "text/html": "(6 rows affected)"
                    },
                    "metadata": {}
                },
                {
                    "output_type": "display_data",
                    "data": {
                        "text/html": "Total execution time: 00:00:00.294"
                    },
                    "metadata": {}
                },
                {
                    "output_type": "execute_result",
                    "metadata": {},
                    "execution_count": 1,
                    "data": {
                        "application/vnd.dataresource+json": {
                            "schema": {
                                "fields": [
                                    {
                                        "name": "name"
                                    },
                                    {
                                        "name": "database_id"
                                    },
                                    {
                                        "name": "source_database_id"
                                    },
                                    {
                                        "name": "owner_sid"
                                    },
                                    {
                                        "name": "create_date"
                                    },
                                    {
                                        "name": "compatibility_level"
                                    },
                                    {
                                        "name": "collation_name"
                                    },
                                    {
                                        "name": "user_access"
                                    },
                                    {
                                        "name": "user_access_desc"
                                    },
                                    {
                                        "name": "is_read_only"
                                    },
                                    {
                                        "name": "is_auto_close_on"
                                    },
                                    {
                                        "name": "is_auto_shrink_on"
                                    },
                                    {
                                        "name": "state"
                                    },
                                    {
                                        "name": "state_desc"
                                    },
                                    {
                                        "name": "is_in_standby"
                                    },
                                    {
                                        "name": "is_cleanly_shutdown"
                                    },
                                    {
                                        "name": "is_supplemental_logging_enabled"
                                    },
                                    {
                                        "name": "snapshot_isolation_state"
                                    },
                                    {
                                        "name": "snapshot_isolation_state_desc"
                                    },
                                    {
                                        "name": "is_read_committed_snapshot_on"
                                    },
                                    {
                                        "name": "recovery_model"
                                    },
                                    {
                                        "name": "recovery_model_desc"
                                    },
                                    {
                                        "name": "page_verify_option"
                                    },
                                    {
                                        "name": "page_verify_option_desc"
                                    },
                                    {
                                        "name": "is_auto_create_stats_on"
                                    },
                                    {
                                        "name": "is_auto_create_stats_incremental_on"
                                    },
                                    {
                                        "name": "is_auto_update_stats_on"
                                    },
                                    {
                                        "name": "is_auto_update_stats_async_on"
                                    },
                                    {
                                        "name": "is_ansi_null_default_on"
                                    },
                                    {
                                        "name": "is_ansi_nulls_on"
                                    },
                                    {
                                        "name": "is_ansi_padding_on"
                                    },
                                    {
                                        "name": "is_ansi_warnings_on"
                                    },
                                    {
                                        "name": "is_arithabort_on"
                                    },
                                    {
                                        "name": "is_concat_null_yields_null_on"
                                    },
                                    {
                                        "name": "is_numeric_roundabort_on"
                                    },
                                    {
                                        "name": "is_quoted_identifier_on"
                                    },
                                    {
                                        "name": "is_recursive_triggers_on"
                                    },
                                    {
                                        "name": "is_cursor_close_on_commit_on"
                                    },
                                    {
                                        "name": "is_local_cursor_default"
                                    },
                                    {
                                        "name": "is_fulltext_enabled"
                                    },
                                    {
                                        "name": "is_trustworthy_on"
                                    },
                                    {
                                        "name": "is_db_chaining_on"
                                    },
                                    {
                                        "name": "is_parameterization_forced"
                                    },
                                    {
                                        "name": "is_master_key_encrypted_by_server"
                                    },
                                    {
                                        "name": "is_query_store_on"
                                    },
                                    {
                                        "name": "is_published"
                                    },
                                    {
                                        "name": "is_subscribed"
                                    },
                                    {
                                        "name": "is_merge_published"
                                    },
                                    {
                                        "name": "is_distributor"
                                    },
                                    {
                                        "name": "is_sync_with_backup"
                                    },
                                    {
                                        "name": "service_broker_guid"
                                    },
                                    {
                                        "name": "is_broker_enabled"
                                    },
                                    {
                                        "name": "log_reuse_wait"
                                    },
                                    {
                                        "name": "log_reuse_wait_desc"
                                    },
                                    {
                                        "name": "is_date_correlation_on"
                                    },
                                    {
                                        "name": "is_cdc_enabled"
                                    },
                                    {
                                        "name": "is_encrypted"
                                    },
                                    {
                                        "name": "is_honor_broker_priority_on"
                                    },
                                    {
                                        "name": "replica_id"
                                    },
                                    {
                                        "name": "group_database_id"
                                    },
                                    {
                                        "name": "resource_pool_id"
                                    },
                                    {
                                        "name": "default_language_lcid"
                                    },
                                    {
                                        "name": "default_language_name"
                                    },
                                    {
                                        "name": "default_fulltext_language_lcid"
                                    },
                                    {
                                        "name": "default_fulltext_language_name"
                                    },
                                    {
                                        "name": "is_nested_triggers_on"
                                    },
                                    {
                                        "name": "is_transform_noise_words_on"
                                    },
                                    {
                                        "name": "two_digit_year_cutoff"
                                    },
                                    {
                                        "name": "containment"
                                    },
                                    {
                                        "name": "containment_desc"
                                    },
                                    {
                                        "name": "target_recovery_time_in_seconds"
                                    },
                                    {
                                        "name": "delayed_durability"
                                    },
                                    {
                                        "name": "delayed_durability_desc"
                                    },
                                    {
                                        "name": "is_memory_optimized_elevate_to_snapshot_on"
                                    },
                                    {
                                        "name": "is_federation_member"
                                    },
                                    {
                                        "name": "is_remote_data_archive_enabled"
                                    },
                                    {
                                        "name": "is_mixed_page_allocation_on"
                                    },
                                    {
                                        "name": "is_temporal_history_retention_enabled"
                                    }
                                ]
                            },
                            "data": [
                                {
                                    "0": "master",
                                    "1": "1",
                                    "2": "NULL",
                                    "3": "0x01",
                                    "4": "2003-04-08 09:13:36.390",
                                    "5": "140",
                                    "6": "SQL_Latin1_General_CP1_CI_AS",
                                    "7": "0",
                                    "8": "MULTI_USER",
                                    "9": "0",
                                    "10": "0",
                                    "11": "0",
                                    "12": "0",
                                    "13": "ONLINE",
                                    "14": "0",
                                    "15": "0",
                                    "16": "0",
                                    "17": "1",
                                    "18": "ON",
                                    "19": "0",
                                    "20": "3",
                                    "21": "SIMPLE",
                                    "22": "2",
                                    "23": "CHECKSUM",
                                    "24": "1",
                                    "25": "0",
                                    "26": "1",
                                    "27": "0",
                                    "28": "0",
                                    "29": "0",
                                    "30": "0",
                                    "31": "0",
                                    "32": "0",
                                    "33": "0",
                                    "34": "0",
                                    "35": "0",
                                    "36": "0",
                                    "37": "0",
                                    "38": "0",
                                    "39": "0",
                                    "40": "0",
                                    "41": "1",
                                    "42": "0",
                                    "43": "0",
                                    "44": "0",
                                    "45": "0",
                                    "46": "0",
                                    "47": "0",
                                    "48": "0",
                                    "49": "0",
                                    "50": "00000000-0000-0000-0000-000000000000",
                                    "51": "0",
                                    "52": "0",
                                    "53": "NOTHING",
                                    "54": "0",
                                    "55": "0",
                                    "56": "0",
                                    "57": "0",
                                    "58": "NULL",
                                    "59": "NULL",
                                    "60": "NULL",
                                    "61": "NULL",
                                    "62": "NULL",
                                    "63": "NULL",
                                    "64": "NULL",
                                    "65": "NULL",
                                    "66": "NULL",
                                    "67": "NULL",
                                    "68": "0",
                                    "69": "NONE",
                                    "70": "0",
                                    "71": "0",
                                    "72": "DISABLED",
                                    "73": "0",
                                    "74": "0",
                                    "75": "0",
                                    "76": "1",
                                    "77": "0"
                                },
                                {
                                    "0": "tempdb",
                                    "1": "2",
                                    "2": "NULL",
                                    "3": "0x01",
                                    "4": "2020-03-30 12:59:26.443",
                                    "5": "140",
                                    "6": "SQL_Latin1_General_CP1_CI_AS",
                                    "7": "0",
                                    "8": "MULTI_USER",
                                    "9": "0",
                                    "10": "0",
                                    "11": "0",
                                    "12": "0",
                                    "13": "ONLINE",
                                    "14": "0",
                                    "15": "0",
                                    "16": "0",
                                    "17": "0",
                                    "18": "OFF",
                                    "19": "0",
                                    "20": "3",
                                    "21": "SIMPLE",
                                    "22": "2",
                                    "23": "CHECKSUM",
                                    "24": "1",
                                    "25": "0",
                                    "26": "1",
                                    "27": "0",
                                    "28": "0",
                                    "29": "0",
                                    "30": "0",
                                    "31": "0",
                                    "32": "0",
                                    "33": "0",
                                    "34": "0",
                                    "35": "0",
                                    "36": "0",
                                    "37": "0",
                                    "38": "0",
                                    "39": "0",
                                    "40": "0",
                                    "41": "1",
                                    "42": "0",
                                    "43": "0",
                                    "44": "0",
                                    "45": "0",
                                    "46": "0",
                                    "47": "0",
                                    "48": "0",
                                    "49": "0",
                                    "50": "0e7fa998-68e7-4c88-8637-96d75972d644",
                                    "51": "1",
                                    "52": "0",
                                    "53": "NOTHING",
                                    "54": "0",
                                    "55": "0",
                                    "56": "0",
                                    "57": "0",
                                    "58": "NULL",
                                    "59": "NULL",
                                    "60": "NULL",
                                    "61": "NULL",
                                    "62": "NULL",
                                    "63": "NULL",
                                    "64": "NULL",
                                    "65": "NULL",
                                    "66": "NULL",
                                    "67": "NULL",
                                    "68": "0",
                                    "69": "NONE",
                                    "70": "60",
                                    "71": "0",
                                    "72": "DISABLED",
                                    "73": "0",
                                    "74": "0",
                                    "75": "0",
                                    "76": "0",
                                    "77": "0"
                                },
                                {
                                    "0": "model",
                                    "1": "3",
                                    "2": "NULL",
                                    "3": "0x01",
                                    "4": "2003-04-08 09:13:36.390",
                                    "5": "140",
                                    "6": "SQL_Latin1_General_CP1_CI_AS",
                                    "7": "0",
                                    "8": "MULTI_USER",
                                    "9": "0",
                                    "10": "0",
                                    "11": "0",
                                    "12": "0",
                                    "13": "ONLINE",
                                    "14": "0",
                                    "15": "0",
                                    "16": "0",
                                    "17": "0",
                                    "18": "OFF",
                                    "19": "0",
                                    "20": "1",
                                    "21": "FULL",
                                    "22": "2",
                                    "23": "CHECKSUM",
                                    "24": "1",
                                    "25": "0",
                                    "26": "1",
                                    "27": "0",
                                    "28": "0",
                                    "29": "0",
                                    "30": "0",
                                    "31": "0",
                                    "32": "0",
                                    "33": "0",
                                    "34": "0",
                                    "35": "0",
                                    "36": "0",
                                    "37": "0",
                                    "38": "0",
                                    "39": "0",
                                    "40": "0",
                                    "41": "0",
                                    "42": "0",
                                    "43": "0",
                                    "44": "0",
                                    "45": "0",
                                    "46": "0",
                                    "47": "0",
                                    "48": "0",
                                    "49": "0",
                                    "50": "00000000-0000-0000-0000-000000000000",
                                    "51": "0",
                                    "52": "0",
                                    "53": "NOTHING",
                                    "54": "0",
                                    "55": "0",
                                    "56": "0",
                                    "57": "0",
                                    "58": "NULL",
                                    "59": "NULL",
                                    "60": "NULL",
                                    "61": "NULL",
                                    "62": "NULL",
                                    "63": "NULL",
                                    "64": "NULL",
                                    "65": "NULL",
                                    "66": "NULL",
                                    "67": "NULL",
                                    "68": "0",
                                    "69": "NONE",
                                    "70": "60",
                                    "71": "0",
                                    "72": "DISABLED",
                                    "73": "0",
                                    "74": "0",
                                    "75": "0",
                                    "76": "1",
                                    "77": "0"
                                },
                                {
                                    "0": "msdb",
                                    "1": "4",
                                    "2": "NULL",
                                    "3": "0x01",
                                    "4": "2018-09-14 15:59:53.650",
                                    "5": "140",
                                    "6": "SQL_Latin1_General_CP1_CI_AS",
                                    "7": "0",
                                    "8": "MULTI_USER",
                                    "9": "0",
                                    "10": "0",
                                    "11": "0",
                                    "12": "0",
                                    "13": "ONLINE",
                                    "14": "0",
                                    "15": "0",
                                    "16": "0",
                                    "17": "1",
                                    "18": "ON",
                                    "19": "0",
                                    "20": "3",
                                    "21": "SIMPLE",
                                    "22": "2",
                                    "23": "CHECKSUM",
                                    "24": "1",
                                    "25": "0",
                                    "26": "1",
                                    "27": "0",
                                    "28": "0",
                                    "29": "0",
                                    "30": "0",
                                    "31": "0",
                                    "32": "0",
                                    "33": "0",
                                    "34": "0",
                                    "35": "0",
                                    "36": "0",
                                    "37": "0",
                                    "38": "0",
                                    "39": "1",
                                    "40": "1",
                                    "41": "1",
                                    "42": "0",
                                    "43": "0",
                                    "44": "0",
                                    "45": "0",
                                    "46": "0",
                                    "47": "0",
                                    "48": "0",
                                    "49": "0",
                                    "50": "1316660b-e1e7-42eb-bf3c-08c4c752b310",
                                    "51": "1",
                                    "52": "7",
                                    "53": "DATABASE_SNAPSHOT_CREATION",
                                    "54": "0",
                                    "55": "0",
                                    "56": "0",
                                    "57": "0",
                                    "58": "NULL",
                                    "59": "NULL",
                                    "60": "NULL",
                                    "61": "NULL",
                                    "62": "NULL",
                                    "63": "NULL",
                                    "64": "NULL",
                                    "65": "NULL",
                                    "66": "NULL",
                                    "67": "NULL",
                                    "68": "0",
                                    "69": "NONE",
                                    "70": "60",
                                    "71": "0",
                                    "72": "DISABLED",
                                    "73": "0",
                                    "74": "0",
                                    "75": "0",
                                    "76": "1",
                                    "77": "1"
                                },
                                {
                                    "0": "AdventureWorks2017",
                                    "1": "5",
                                    "2": "NULL",
                                    "3": "0x01",
                                    "4": "2020-03-30 12:59:44.703",
                                    "5": "140",
                                    "6": "SQL_Latin1_General_CP1_CI_AS",
                                    "7": "0",
                                    "8": "MULTI_USER",
                                    "9": "0",
                                    "10": "0",
                                    "11": "0",
                                    "12": "0",
                                    "13": "ONLINE",
                                    "14": "0",
                                    "15": "0",
                                    "16": "0",
                                    "17": "0",
                                    "18": "OFF",
                                    "19": "0",
                                    "20": "1",
                                    "21": "FULL",
                                    "22": "2",
                                    "23": "CHECKSUM",
                                    "24": "1",
                                    "25": "0",
                                    "26": "1",
                                    "27": "0",
                                    "28": "0",
                                    "29": "1",
                                    "30": "1",
                                    "31": "1",
                                    "32": "1",
                                    "33": "1",
                                    "34": "0",
                                    "35": "1",
                                    "36": "0",
                                    "37": "0",
                                    "38": "0",
                                    "39": "1",
                                    "40": "0",
                                    "41": "0",
                                    "42": "0",
                                    "43": "0",
                                    "44": "0",
                                    "45": "0",
                                    "46": "0",
                                    "47": "0",
                                    "48": "0",
                                    "49": "0",
                                    "50": "470e976f-41ee-49b1-87f0-7bcf5ada2ab4",
                                    "51": "0",
                                    "52": "0",
                                    "53": "NOTHING",
                                    "54": "0",
                                    "55": "0",
                                    "56": "0",
                                    "57": "0",
                                    "58": "NULL",
                                    "59": "NULL",
                                    "60": "NULL",
                                    "61": "NULL",
                                    "62": "NULL",
                                    "63": "NULL",
                                    "64": "NULL",
                                    "65": "NULL",
                                    "66": "NULL",
                                    "67": "NULL",
                                    "68": "0",
                                    "69": "NONE",
                                    "70": "60",
                                    "71": "0",
                                    "72": "DISABLED",
                                    "73": "0",
                                    "74": "0",
                                    "75": "0",
                                    "76": "0",
                                    "77": "0"
                                },
                                {
                                    "0": "DatabaseAdmin",
                                    "1": "6",
                                    "2": "NULL",
                                    "3": "0x01",
                                    "4": "2020-03-30 12:59:48.190",
                                    "5": "140",
                                    "6": "SQL_Latin1_General_CP1_CI_AS",
                                    "7": "0",
                                    "8": "MULTI_USER",
                                    "9": "0",
                                    "10": "0",
                                    "11": "0",
                                    "12": "0",
                                    "13": "ONLINE",
                                    "14": "0",
                                    "15": "0",
                                    "16": "0",
                                    "17": "0",
                                    "18": "OFF",
                                    "19": "0",
                                    "20": "1",
                                    "21": "FULL",
                                    "22": "2",
                                    "23": "CHECKSUM",
                                    "24": "1",
                                    "25": "0",
                                    "26": "1",
                                    "27": "0",
                                    "28": "0",
                                    "29": "0",
                                    "30": "0",
                                    "31": "0",
                                    "32": "0",
                                    "33": "0",
                                    "34": "0",
                                    "35": "0",
                                    "36": "0",
                                    "37": "0",
                                    "38": "0",
                                    "39": "1",
                                    "40": "0",
                                    "41": "0",
                                    "42": "0",
                                    "43": "0",
                                    "44": "0",
                                    "45": "0",
                                    "46": "0",
                                    "47": "0",
                                    "48": "0",
                                    "49": "0",
                                    "50": "167d7888-dc15-4b0c-9df8-9a26604094ad",
                                    "51": "1",
                                    "52": "0",
                                    "53": "NOTHING",
                                    "54": "0",
                                    "55": "0",
                                    "56": "0",
                                    "57": "0",
                                    "58": "NULL",
                                    "59": "NULL",
                                    "60": "NULL",
                                    "61": "NULL",
                                    "62": "NULL",
                                    "63": "NULL",
                                    "64": "NULL",
                                    "65": "NULL",
                                    "66": "NULL",
                                    "67": "NULL",
                                    "68": "0",
                                    "69": "NONE",
                                    "70": "60",
                                    "71": "0",
                                    "72": "DISABLED",
                                    "73": "0",
                                    "74": "0",
                                    "75": "0",
                                    "76": "0",
                                    "77": "1"
                                }
                            ]
                        },
                        "text/html": "<table><tr><th>name</th><th>database_id</th><th>source_database_id</th><th>owner_sid</th><th>create_date</th><th>compatibility_level</th><th>collation_name</th><th>user_access</th><th>user_access_desc</th><th>is_read_only</th><th>is_auto_close_on</th><th>is_auto_shrink_on</th><th>state</th><th>state_desc</th><th>is_in_standby</th><th>is_cleanly_shutdown</th><th>is_supplemental_logging_enabled</th><th>snapshot_isolation_state</th><th>snapshot_isolation_state_desc</th><th>is_read_committed_snapshot_on</th><th>recovery_model</th><th>recovery_model_desc</th><th>page_verify_option</th><th>page_verify_option_desc</th><th>is_auto_create_stats_on</th><th>is_auto_create_stats_incremental_on</th><th>is_auto_update_stats_on</th><th>is_auto_update_stats_async_on</th><th>is_ansi_null_default_on</th><th>is_ansi_nulls_on</th><th>is_ansi_padding_on</th><th>is_ansi_warnings_on</th><th>is_arithabort_on</th><th>is_concat_null_yields_null_on</th><th>is_numeric_roundabort_on</th><th>is_quoted_identifier_on</th><th>is_recursive_triggers_on</th><th>is_cursor_close_on_commit_on</th><th>is_local_cursor_default</th><th>is_fulltext_enabled</th><th>is_trustworthy_on</th><th>is_db_chaining_on</th><th>is_parameterization_forced</th><th>is_master_key_encrypted_by_server</th><th>is_query_store_on</th><th>is_published</th><th>is_subscribed</th><th>is_merge_published</th><th>is_distributor</th><th>is_sync_with_backup</th><th>service_broker_guid</th><th>is_broker_enabled</th><th>log_reuse_wait</th><th>log_reuse_wait_desc</th><th>is_date_correlation_on</th><th>is_cdc_enabled</th><th>is_encrypted</th><th>is_honor_broker_priority_on</th><th>replica_id</th><th>group_database_id</th><th>resource_pool_id</th><th>default_language_lcid</th><th>default_language_name</th><th>default_fulltext_language_lcid</th><th>default_fulltext_language_name</th><th>is_nested_triggers_on</th><th>is_transform_noise_words_on</th><th>two_digit_year_cutoff</th><th>containment</th><th>containment_desc</th><th>target_recovery_time_in_seconds</th><th>delayed_durability</th><th>delayed_durability_desc</th><th>is_memory_optimized_elevate_to_snapshot_on</th><th>is_federation_member</th><th>is_remote_data_archive_enabled</th><th>is_mixed_page_allocation_on</th><th>is_temporal_history_retention_enabled</th></tr><tr><td>master</td><td>1</td><td>NULL</td><td>0x01</td><td>2003-04-08 09:13:36.390</td><td>140</td><td>SQL_Latin1_General_CP1_CI_AS</td><td>0</td><td>MULTI_USER</td><td>0</td><td>0</td><td>0</td><td>0</td><td>ONLINE</td><td>0</td><td>0</td><td>0</td><td>1</td><td>ON</td><td>0</td><td>3</td><td>SIMPLE</td><td>2</td><td>CHECKSUM</td><td>1</td><td>0</td><td>1</td><td>0</td><td>0</td><td>0</td><td>0</td><td>0</td><td>0</td><td>0</td><td>0</td><td>0</td><td>0</td><td>0</td><td>0</td><td>0</td><td>0</td><td>1</td><td>0</td><td>0</td><td>0</td><td>0</td><td>0</td><td>0</td><td>0</td><td>0</td><td>00000000-0000-0000-0000-000000000000</td><td>0</td><td>0</td><td>NOTHING</td><td>0</td><td>0</td><td>0</td><td>0</td><td>NULL</td><td>NULL</td><td>NULL</td><td>NULL</td><td>NULL</td><td>NULL</td><td>NULL</td><td>NULL</td><td>NULL</td><td>NULL</td><td>0</td><td>NONE</td><td>0</td><td>0</td><td>DISABLED</td><td>0</td><td>0</td><td>0</td><td>1</td><td>0</td></tr><tr><td>tempdb</td><td>2</td><td>NULL</td><td>0x01</td><td>2020-03-30 12:59:26.443</td><td>140</td><td>SQL_Latin1_General_CP1_CI_AS</td><td>0</td><td>MULTI_USER</td><td>0</td><td>0</td><td>0</td><td>0</td><td>ONLINE</td><td>0</td><td>0</td><td>0</td><td>0</td><td>OFF</td><td>0</td><td>3</td><td>SIMPLE</td><td>2</td><td>CHECKSUM</td><td>1</td><td>0</td><td>1</td><td>0</td><td>0</td><td>0</td><td>0</td><td>0</td><td>0</td><td>0</td><td>0</td><td>0</td><td>0</td><td>0</td><td>0</td><td>0</td><td>0</td><td>1</td><td>0</td><td>0</td><td>0</td><td>0</td><td>0</td><td>0</td><td>0</td><td>0</td><td>0e7fa998-68e7-4c88-8637-96d75972d644</td><td>1</td><td>0</td><td>NOTHING</td><td>0</td><td>0</td><td>0</td><td>0</td><td>NULL</td><td>NULL</td><td>NULL</td><td>NULL</td><td>NULL</td><td>NULL</td><td>NULL</td><td>NULL</td><td>NULL</td><td>NULL</td><td>0</td><td>NONE</td><td>60</td><td>0</td><td>DISABLED</td><td>0</td><td>0</td><td>0</td><td>0</td><td>0</td></tr><tr><td>model</td><td>3</td><td>NULL</td><td>0x01</td><td>2003-04-08 09:13:36.390</td><td>140</td><td>SQL_Latin1_General_CP1_CI_AS</td><td>0</td><td>MULTI_USER</td><td>0</td><td>0</td><td>0</td><td>0</td><td>ONLINE</td><td>0</td><td>0</td><td>0</td><td>0</td><td>OFF</td><td>0</td><td>1</td><td>FULL</td><td>2</td><td>CHECKSUM</td><td>1</td><td>0</td><td>1</td><td>0</td><td>0</td><td>0</td><td>0</td><td>0</td><td>0</td><td>0</td><td>0</td><td>0</td><td>0</td><td>0</td><td>0</td><td>0</td><td>0</td><td>0</td><td>0</td><td>0</td><td>0</td><td>0</td><td>0</td><td>0</td><td>0</td><td>0</td><td>00000000-0000-0000-0000-000000000000</td><td>0</td><td>0</td><td>NOTHING</td><td>0</td><td>0</td><td>0</td><td>0</td><td>NULL</td><td>NULL</td><td>NULL</td><td>NULL</td><td>NULL</td><td>NULL</td><td>NULL</td><td>NULL</td><td>NULL</td><td>NULL</td><td>0</td><td>NONE</td><td>60</td><td>0</td><td>DISABLED</td><td>0</td><td>0</td><td>0</td><td>1</td><td>0</td></tr><tr><td>msdb</td><td>4</td><td>NULL</td><td>0x01</td><td>2018-09-14 15:59:53.650</td><td>140</td><td>SQL_Latin1_General_CP1_CI_AS</td><td>0</td><td>MULTI_USER</td><td>0</td><td>0</td><td>0</td><td>0</td><td>ONLINE</td><td>0</td><td>0</td><td>0</td><td>1</td><td>ON</td><td>0</td><td>3</td><td>SIMPLE</td><td>2</td><td>CHECKSUM</td><td>1</td><td>0</td><td>1</td><td>0</td><td>0</td><td>0</td><td>0</td><td>0</td><td>0</td><td>0</td><td>0</td><td>0</td><td>0</td><td>0</td><td>0</td><td>1</td><td>1</td><td>1</td><td>0</td><td>0</td><td>0</td><td>0</td><td>0</td><td>0</td><td>0</td><td>0</td><td>1316660b-e1e7-42eb-bf3c-08c4c752b310</td><td>1</td><td>7</td><td>DATABASE_SNAPSHOT_CREATION</td><td>0</td><td>0</td><td>0</td><td>0</td><td>NULL</td><td>NULL</td><td>NULL</td><td>NULL</td><td>NULL</td><td>NULL</td><td>NULL</td><td>NULL</td><td>NULL</td><td>NULL</td><td>0</td><td>NONE</td><td>60</td><td>0</td><td>DISABLED</td><td>0</td><td>0</td><td>0</td><td>1</td><td>1</td></tr><tr><td>AdventureWorks2017</td><td>5</td><td>NULL</td><td>0x01</td><td>2020-03-30 12:59:44.703</td><td>140</td><td>SQL_Latin1_General_CP1_CI_AS</td><td>0</td><td>MULTI_USER</td><td>0</td><td>0</td><td>0</td><td>0</td><td>ONLINE</td><td>0</td><td>0</td><td>0</td><td>0</td><td>OFF</td><td>0</td><td>1</td><td>FULL</td><td>2</td><td>CHECKSUM</td><td>1</td><td>0</td><td>1</td><td>0</td><td>0</td><td>1</td><td>1</td><td>1</td><td>1</td><td>1</td><td>0</td><td>1</td><td>0</td><td>0</td><td>0</td><td>1</td><td>0</td><td>0</td><td>0</td><td>0</td><td>0</td><td>0</td><td>0</td><td>0</td><td>0</td><td>0</td><td>470e976f-41ee-49b1-87f0-7bcf5ada2ab4</td><td>0</td><td>0</td><td>NOTHING</td><td>0</td><td>0</td><td>0</td><td>0</td><td>NULL</td><td>NULL</td><td>NULL</td><td>NULL</td><td>NULL</td><td>NULL</td><td>NULL</td><td>NULL</td><td>NULL</td><td>NULL</td><td>0</td><td>NONE</td><td>60</td><td>0</td><td>DISABLED</td><td>0</td><td>0</td><td>0</td><td>0</td><td>0</td></tr><tr><td>DatabaseAdmin</td><td>6</td><td>NULL</td><td>0x01</td><td>2020-03-30 12:59:48.190</td><td>140</td><td>SQL_Latin1_General_CP1_CI_AS</td><td>0</td><td>MULTI_USER</td><td>0</td><td>0</td><td>0</td><td>0</td><td>ONLINE</td><td>0</td><td>0</td><td>0</td><td>0</td><td>OFF</td><td>0</td><td>1</td><td>FULL</td><td>2</td><td>CHECKSUM</td><td>1</td><td>0</td><td>1</td><td>0</td><td>0</td><td>0</td><td>0</td><td>0</td><td>0</td><td>0</td><td>0</td><td>0</td><td>0</td><td>0</td><td>0</td><td>1</td><td>0</td><td>0</td><td>0</td><td>0</td><td>0</td><td>0</td><td>0</td><td>0</td><td>0</td><td>0</td><td>167d7888-dc15-4b0c-9df8-9a26604094ad</td><td>1</td><td>0</td><td>NOTHING</td><td>0</td><td>0</td><td>0</td><td>0</td><td>NULL</td><td>NULL</td><td>NULL</td><td>NULL</td><td>NULL</td><td>NULL</td><td>NULL</td><td>NULL</td><td>NULL</td><td>NULL</td><td>0</td><td>NONE</td><td>60</td><td>0</td><td>DISABLED</td><td>0</td><td>0</td><td>0</td><td>0</td><td>1</td></tr></table>"
                    }
                }
            ],
            "execution_count": 1
        }
    ]
}