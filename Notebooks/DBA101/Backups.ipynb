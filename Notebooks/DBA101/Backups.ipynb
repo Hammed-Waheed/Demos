{
    "metadata": {
        "kernelspec": {
            "name": "SQL",
            "display_name": "SQL",
            "language": "sql"
        },
        "language_info": {
            "name": "sql",
            "version": ""
        }
    },
    "nbformat_minor": 2,
    "nbformat": 4,
    "cells": [
        {
            "cell_type": "markdown",
            "source": [
                "# Backups"
            ],
            "metadata": {
                "azdata_cell_guid": "4803b384-d594-47ca-9346-9e287a8fa131"
            }
        },
        {
            "cell_type": "markdown",
            "source": [
                "To take a backup to nothing:"
            ],
            "metadata": {
                "azdata_cell_guid": "b40fed0c-9f4b-4738-b307-1c19a45369f6"
            }
        },
        {
            "cell_type": "code",
            "source": [
                "Backup Database AdventureWorks2017 TO DISK='null'"
            ],
            "metadata": {
                "azdata_cell_guid": "01a63a10-9727-441f-9936-c9c1e29cf7f5"
            },
            "outputs": [
                {
                    "output_type": "display_data",
                    "data": {
                        "text/html": "Processed 26232 pages for database 'AdventureWorks2017', file 'AdventureWorks2017' on file 1."
                    },
                    "metadata": {}
                },
                {
                    "output_type": "display_data",
                    "data": {
                        "text/html": "Processed 2 pages for database 'AdventureWorks2017', file 'AdventureWorks2017_log' on file 1."
                    },
                    "metadata": {}
                },
                {
                    "output_type": "display_data",
                    "data": {
                        "text/html": "BACKUP DATABASE successfully processed 26234 pages in 0.609 seconds (336.540 MB/sec)."
                    },
                    "metadata": {}
                },
                {
                    "output_type": "display_data",
                    "data": {
                        "text/html": "Total execution time: 00:00:00.887"
                    },
                    "metadata": {}
                }
            ],
            "execution_count": 5
        }
    ]
}